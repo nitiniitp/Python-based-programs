{
  "nbformat": 4,
  "nbformat_minor": 0,
  "metadata": {
    "colab": {
      "name": "Python based programs .ipynb",
      "provenance": [],
      "collapsed_sections": [],
      "include_colab_link": true
    },
    "kernelspec": {
      "name": "python3",
      "display_name": "Python 3"
    },
    "language_info": {
      "name": "python"
    }
  },
  "cells": [
    {
      "cell_type": "markdown",
      "metadata": {
        "id": "view-in-github",
        "colab_type": "text"
      },
      "source": [
        "<a href=\"https://colab.research.google.com/github/nitiniitp/Python-based-programs/blob/main/Python_based_programs_.ipynb\" target=\"_parent\"><img src=\"https://colab.research.google.com/assets/colab-badge.svg\" alt=\"Open In Colab\"/></a>"
      ]
    },
    {
      "cell_type": "code",
      "metadata": {
        "id": "IhHiPuFe5pQh",
        "colab": {
          "base_uri": "https://localhost:8080/"
        },
        "outputId": "d3646d88-a0d1-49f6-91eb-8afcda44e4ef"
      },
      "source": [
        "#Question 1:Implement a simple game which can be played between you and computer using random keyword\n",
        "import random\n",
        "user_action = input(\"Enter a choice (rock, paper, scissors): \")\n",
        "possible_actions = [\"rock\", \"paper\", \"scissors\"]\n",
        "computer_action = random.choice(possible_actions)\n",
        "if user_action == computer_action:\n",
        "    print(f\"Both players selected {user_action}. It's a tie!\")\n",
        "elif user_action == \"rock\":\n",
        "    if computer_action == \"scissors\":\n",
        "        print(\"Rock smashes scissors! You win!\")\n",
        "    else:\n",
        "        print(\"Paper covers rock! You lose.\")\n",
        "elif user_action == \"paper\":\n",
        "    if computer_action == \"rock\":\n",
        "        print(\"Paper covers rock! You win!\")\n",
        "    else:\n",
        "        print(\"Scissors cuts paper! You lose.\")\n",
        "elif user_action == \"scissors\":\n",
        "    if computer_action == \"paper\":\n",
        "        print(\"Scissors cuts paper! You win!\")\n",
        "    else:\n",
        "        print(\"Rock smashes scissors! You lose.\")"
      ],
      "execution_count": null,
      "outputs": [
        {
          "output_type": "stream",
          "text": [
            "Enter a choice (rock, paper, scissors): rock\n",
            "Rock smashes scissors! You win!\n"
          ],
          "name": "stdout"
        }
      ]
    },
    {
      "cell_type": "code",
      "metadata": {
        "id": "Em_b0a9F5wWZ",
        "colab": {
          "base_uri": "https://localhost:8080/"
        },
        "outputId": "a9bfc5f2-0dd9-45bb-cefa-7a33a49d297d"
      },
      "source": [
        "#Question 2:Create a simple calculator. That will be able to take user input of two numbers and the operation the user wants to perform.\n",
        "def add(x, y):\n",
        "    return x + y\n",
        "\n",
        "# This function subtracts two numbers\n",
        "def subtract(x, y):\n",
        "    return x - y\n",
        "\n",
        "# This function multiplies two numbers\n",
        "def multiply(x, y):\n",
        "    return x * y\n",
        "\n",
        "# This function divides two numbers\n",
        "def divide(x, y):\n",
        "    return x / y\n",
        "\n",
        "\n",
        "print(\"Select operation.\")\n",
        "print(\"1.Add\")\n",
        "print(\"2.Subtract\")\n",
        "print(\"3.Multiply\")\n",
        "print(\"4.Divide\")\n",
        "\n",
        "while True:\n",
        "    # Take input from the user\n",
        "    choice = input(\"Enter choice(1/2/3/4): \")\n",
        "\n",
        "    # Check if choice is one of the four options\n",
        "    if choice in ('1', '2', '3', '4'):\n",
        "        num1 = float(input(\"Enter first number: \"))\n",
        "        num2 = float(input(\"Enter second number: \"))\n",
        "\n",
        "        if choice == '1':\n",
        "            print(num1, \"+\", num2, \"=\", add(num1, num2))\n",
        "\n",
        "        elif choice == '2':\n",
        "            print(num1, \"-\", num2, \"=\", subtract(num1, num2))\n",
        "\n",
        "        elif choice == '3':\n",
        "            print(num1, \"*\", num2, \"=\", multiply(num1, num2))\n",
        "\n",
        "        elif choice == '4':\n",
        "            print(num1, \"/\", num2, \"=\", divide(num1, num2))\n",
        "        break\n",
        "    else:\n",
        "        print(\"Invalid Input\")"
      ],
      "execution_count": null,
      "outputs": [
        {
          "output_type": "stream",
          "text": [
            "Select operation.\n",
            "1.Add\n",
            "2.Subtract\n",
            "3.Multiply\n",
            "4.Divide\n",
            "Enter choice(1/2/3/4): add\n",
            "Invalid Input\n",
            "Enter choice(1/2/3/4): 2\n",
            "Enter first number: 3\n",
            "Enter second number: 5\n",
            "3.0 - 5.0 = -2.0\n"
          ],
          "name": "stdout"
        }
      ]
    },
    {
      "cell_type": "code",
      "metadata": {
        "id": "vqF06gZS5wjV",
        "colab": {
          "base_uri": "https://localhost:8080/"
        },
        "outputId": "b45231ac-3047-42c5-8a91-b45b97976920"
      },
      "source": [
        "#Question 3:Generate a password. Your password may contain letters in uppercase or lowercase. It also may contain digits or special characters.\n",
        "import random\n",
        "import array\n",
        " \n",
        "\n",
        "MAX_LEN = 11\n",
        " \n",
        "\n",
        "DIGITS = ['0', '1', '2', '3', '4', '5', '6', '7', '8', '9'] \n",
        "LOCASE_CHARACTERS = ['a', 'b', 'c', 'd', 'e', 'f', 'g', 'h',\n",
        "                     'i', 'j', 'k', 'm', 'n', 'o', 'p', 'q',\n",
        "                     'r', 's', 't', 'u', 'v', 'w', 'x', 'y',\n",
        "                     'z']\n",
        " \n",
        "UPCASE_CHARACTERS = ['A', 'B', 'C', 'D', 'E', 'F', 'G', 'H',\n",
        "                     'I', 'J', 'K', 'M', 'N', 'O', 'p', 'Q',\n",
        "                     'R', 'S', 'T', 'U', 'V', 'W', 'X', 'Y',\n",
        "                     'Z']\n",
        " \n",
        "SYMBOLS = ['@', '#', '$', '%', '=', ':', '?', '.', '/', '|', '~', '>',\n",
        "           '*', '(', ')', '<']\n",
        " \n",
        "\n",
        "COMBINED_LIST = DIGITS + UPCASE_CHARACTERS + LOCASE_CHARACTERS + SYMBOLS\n",
        " \n",
        "\n",
        "rand_digit = random.choice(DIGITS)\n",
        "rand_upper = random.choice(UPCASE_CHARACTERS)\n",
        "rand_lower = random.choice(LOCASE_CHARACTERS)\n",
        "rand_symbol = random.choice(SYMBOLS)\n",
        " \n",
        "\n",
        "temp_pass = rand_digit + rand_upper + rand_lower + rand_symbol\n",
        " \n",
        " \n",
        "\n",
        "for x in range(MAX_LEN - 4):\n",
        "    temp_pass = temp_pass + random.choice(COMBINED_LIST)\n",
        " \n",
        "    \n",
        "    temp_pass_list = array.array('u', temp_pass)\n",
        "    random.shuffle(temp_pass_list)\n",
        " \n",
        "\n",
        "password = \"\"\n",
        "for x in temp_pass_list:\n",
        "        password = password + x\n",
        "         \n",
        "\n",
        "print(password)\n"
      ],
      "execution_count": null,
      "outputs": [
        {
          "output_type": "stream",
          "text": [
            ".7w<g05hI>U\n"
          ],
          "name": "stdout"
        }
      ]
    },
    {
      "cell_type": "code",
      "metadata": {
        "id": "3wK_DXib5wnt",
        "colab": {
          "base_uri": "https://localhost:8080/"
        },
        "outputId": "2398a96d-767f-4f63-ecd4-50351c8b6af8"
      },
      "source": [
        "#Question 4:Generate a password that has a minimum of one uppercase, one lowercase, one digit, and one special character\n",
        "import random\n",
        "import array\n",
        " \n",
        "\n",
        "MAX_LEN = 10\n",
        " \n",
        "\n",
        "DIGITS = ['0', '1', '2', '3', '4', '5', '6', '7', '8', '9'] \n",
        "LOCASE_CHARACTERS = ['a', 'b', 'c', 'd', 'e', 'f', 'g', 'h',\n",
        "                     'i', 'j', 'k', 'm', 'n', 'o', 'p', 'q',\n",
        "                     'r', 's', 't', 'u', 'v', 'w', 'x', 'y',\n",
        "                     'z']\n",
        " \n",
        "UPCASE_CHARACTERS = ['A', 'B', 'C', 'D', 'E', 'F', 'G', 'H',\n",
        "                     'I', 'J', 'K', 'M', 'N', 'O', 'p', 'Q',\n",
        "                     'R', 'S', 'T', 'U', 'V', 'W', 'X', 'Y',\n",
        "                     'Z']\n",
        " \n",
        "SYMBOLS = ['@', '#', '$', '%', '=', ':', '?', '.', '/', '|', '~', '>',\n",
        "           '*', '(', ')', '<']\n",
        " \n",
        "\n",
        "COMBINED_LIST = DIGITS + UPCASE_CHARACTERS + LOCASE_CHARACTERS + SYMBOLS\n",
        " \n",
        "\n",
        "rand_digit = random.choice(DIGITS)\n",
        "rand_upper = random.choice(UPCASE_CHARACTERS)\n",
        "rand_lower = random.choice(LOCASE_CHARACTERS)\n",
        "rand_symbol = random.choice(SYMBOLS)\n",
        " \n",
        "\n",
        "temp_pass = rand_digit + rand_upper + rand_lower + rand_symbol\n",
        " \n",
        " \n",
        "\n",
        "for x in range(MAX_LEN - 4):\n",
        "    temp_pass = temp_pass + random.choice(COMBINED_LIST)\n",
        " \n",
        "    \n",
        "    temp_pass_list = array.array('u', temp_pass)\n",
        "    random.shuffle(temp_pass_list)\n",
        " \n",
        "\n",
        "password = \"\"\n",
        "for x in temp_pass_list:\n",
        "        password = password + x\n",
        "         \n",
        "\n",
        "print(password)"
      ],
      "execution_count": null,
      "outputs": [
        {
          "output_type": "stream",
          "text": [
            "Ce@X$fku00\n"
          ],
          "name": "stdout"
        }
      ]
    },
    {
      "cell_type": "code",
      "metadata": {
        "id": "lJ08x5gt5wqg",
        "colab": {
          "base_uri": "https://localhost:8080/"
        },
        "outputId": "d2660b59-f322-42aa-850e-cdf17812fe46"
      },
      "source": [
        "#Question 5:A company decided to give bonus of 5% to employee if his/her year of service is more than 5 years.Ask user for their salary and year of service and print the net bonus amount.\n",
        "salary = eval(input(\"Enter your salary:\"))\n",
        "\n",
        "service_yrs = eval(input(\"Enter Years of service:\"))\n",
        "\n",
        "if service_yrs > 5:\n",
        "\n",
        "    print(\"Yours salary(+Bonus) = \",salary + (salary)*5/100)\n",
        "\n",
        "else:\n",
        "\n",
        "     print(\"You are not eligible for bonus as you have less service years.\")"
      ],
      "execution_count": null,
      "outputs": [
        {
          "output_type": "stream",
          "text": [
            "Enter your salary:10000\n",
            "Enter Years of service:2\n",
            "You are not eligible for bonus as you have less service years.\n"
          ],
          "name": "stdout"
        }
      ]
    }
  ]
}